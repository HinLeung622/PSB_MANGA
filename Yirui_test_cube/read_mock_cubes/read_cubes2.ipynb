{
 "cells": [
  {
   "cell_type": "code",
   "execution_count": 1,
   "metadata": {},
   "outputs": [],
   "source": [
    "import time\n",
    "import numpy as np\n",
    "from astropy.io import fits\n",
    "import matplotlib.pyplot as plt\n",
    "from matplotlib.colors import LogNorm\n",
    "\n",
    "%matplotlib inline\n",
    "from astropy.cosmology import FlatLambdaCDM\n",
    "cosmo = FlatLambdaCDM(H0=70., Om0=0.3)\n",
    "import pandas as pd"
   ]
  },
  {
   "cell_type": "code",
   "execution_count": 2,
   "metadata": {},
   "outputs": [],
   "source": [
    "def datacube_dir(fileseq, snap, cell_size=1.,\n",
    "        faceon=False, style='', tauv=1.0, mu=0.3, cir_fib=False,\n",
    "        with_metal=False, one_comp_dust=False, with_PSF=False):\n",
    "    \"\"\"\n",
    "    find the dir of the datacube. The dir is where RSS are stored\n",
    "    cir_fib: use the circular fiber\n",
    "    \"\"\"\n",
    "    #where we store the output of the SEDmorph code\n",
    "    str_snap = str(snap).zfill(3)\n",
    "    #dir_out = '/share/data/yz69/SEDMORPH/SimnsGadget3_output/'+fileseq+'/'\n",
    "    dir_out = '../'+fileseq+'/'\n",
    "\n",
    "    fits_outstr = \"_tauv%0.1f_mu%0.1f\" %(tauv, mu)\n",
    "    if faceon:\n",
    "        fits_outstr=fits_outstr+'_fo'     \n",
    "    if one_comp_dust:\n",
    "        fits_outstr=fits_outstr+'_one_comp_dust'     \n",
    "    if style.lower() == 'sedmorph':\n",
    "        style=''\n",
    "    elif style==\"\":\n",
    "        pass\n",
    "    else:\n",
    "        style='_'+style\n",
    "    if cir_fib:\n",
    "        data_cube_dir = \"DataCube\"+fits_outstr+'_'+str_snap+style+'_cir_radius_%0.2f' %(cell_size)\n",
    "    else:\n",
    "        data_cube_dir = \"DataCube\"+fits_outstr+'_'+str_snap+style+'_size_%0.2f' %(cell_size)\n",
    "    if with_metal:\n",
    "        data_cube_dir=data_cube_dir+'_with_metal'\n",
    "    if with_PSF:\n",
    "        data_cube_dir=data_cube_dir+'_with_PSF'\n",
    "    data_cube_dir = dir_out+data_cube_dir + '/'\n",
    "    \n",
    "    return data_cube_dir\n",
    "\n",
    "def load_cubes(fileseq, snap, fib_size=0.79, style='star_age', tauv=1.0, mu=0.3,  with_metal=True,\n",
    "                 cir_fib=True,with_PSF=True, faceon=False, one_comp_dust=False):\n",
    "    \n",
    "    #cube_dir=datacube_dir(fileseq, snap, cell_size=fib_size,\n",
    "    #             style=style,  with_metal=with_metal,\n",
    "    #             cir_fib=True,with_PSF=with_PSF )\n",
    "    cube_dir = '../snap'+str(snap)+'/'\n",
    "    if with_PSF == True:\n",
    "        cube_dir += 'with_PSF/'\n",
    "    else: cube_dir += 'no_PSF/'\n",
    "\n",
    "    fits_outstr = \"_tauv%0.1f_mu%0.1f\" %(tauv, mu)\n",
    "    if faceon:\n",
    "        fits_outstr=fits_outstr+'_fo'\n",
    "    if one_comp_dust:\n",
    "        fits_outstr=fits_outstr+'_one_comp_dust'\n",
    "    datacube_fits = cube_dir+\"DataCube_\"+fileseq+fits_outstr+'_'+str(snap).zfill(3)+style+'.fits'\n",
    "#     print datacube_fits\n",
    "    wave = fits.getdata(datacube_fits, extname=\"WAVELENGTH\")['wave']\n",
    "    cube_tau = fits.getdata(datacube_fits, extname=\"DATACUBE_DUSTTED\")\n",
    "    cube_notau = fits.getdata(datacube_fits, extname=\"DATACUBE_NODUST\")\n",
    "    return wave, cube_tau, cube_notau"
   ]
  },
  {
   "cell_type": "code",
   "execution_count": 24,
   "metadata": {},
   "outputs": [],
   "source": [
    "# simulation\n",
    "fileseq = '2xSc_07_EC_BH_vw1e4_ReposNoRFBNoRP'\n",
    "remarks = '_SNR15_outshining_test'\n",
    "snap = 119\n",
    "# type of the cube\n",
    "style = 'star_age'\n",
    "with_metal = True\n",
    "with_PSF = True\n",
    "\n",
    "# type of the spectrum\n",
    "dust = True\n",
    "noise = True\n",
    "SNR = 15\n",
    "spec_lims = [3000,10000]"
   ]
  },
  {
   "cell_type": "code",
   "execution_count": 25,
   "metadata": {},
   "outputs": [
    {
     "name": "stdout",
     "output_type": "stream",
     "text": [
      "size of the a pixel: 0.396 kpc\n",
      "size of the a pixel: 0.396 kpc\n",
      "size of the a pixel: 0.396 kpc\n"
     ]
    }
   ],
   "source": [
    "# paramters\n",
    "kpc_in_arcsec = 0.79134391 # 1 arcsec is corresponding to 0.8 kpc at z=0.04\n",
    "fib_size = 0.79134391 # as its radius is 1 arcsec\n",
    "pixel_size = 0.5 * kpc_in_arcsec # in side length in kpc\n",
    "print(\"size of the a pixel: %.3f kpc\" %pixel_size)\n",
    "print(\"size of the a pixel: %.3f kpc\" %pixel_size)\n",
    "print(\"size of the a pixel: %.3f kpc\" %pixel_size)"
   ]
  },
  {
   "cell_type": "markdown",
   "metadata": {},
   "source": [
    "### Load the cube"
   ]
  },
  {
   "cell_type": "code",
   "execution_count": 26,
   "metadata": {},
   "outputs": [],
   "source": [
    "wave, cube_tau, cube_notau = load_cubes(fileseq, snap, fib_size=fib_size, style=style,\n",
    "                        with_metal=with_metal, cir_fib=True,with_PSF=with_PSF)"
   ]
  },
  {
   "cell_type": "markdown",
   "metadata": {},
   "source": [
    "### Slice of the cubes at a given wavelength"
   ]
  },
  {
   "cell_type": "code",
   "execution_count": 27,
   "metadata": {},
   "outputs": [
    {
     "data": {
      "text/plain": [
       "Text(0, 0.5, 'y[pixel]')"
      ]
     },
     "execution_count": 27,
     "metadata": {},
     "output_type": "execute_result"
    },
    {
     "data": {
      "image/png": "[encoded data removed]",
      "text/plain": [
       "<Figure size 432x288 with 2 Axes>"
      ]
     },
     "metadata": {
      "needs_background": "light"
     },
     "output_type": "display_data"
    }
   ],
   "source": [
    "idx = 8441\n",
    "plt.imshow(cube_tau[idx], norm=LogNorm(), cmap='jet')\n",
    "plt.colorbar()\n",
    "plt.title( r\"image slice, $\\lambda=%.1f\\AA$\" %wave[idx]  )\n",
    "plt.xlabel('x[pixel]')\n",
    "plt.ylabel('y[pixel]')"
   ]
  },
  {
   "cell_type": "code",
   "execution_count": 28,
   "metadata": {},
   "outputs": [],
   "source": [
    "def plot_spectrum(wave, lum_spectrum, z=0.04, plot=True):\n",
    "    obs_wave = wave*(1+z)  # converting wavelengths from rest frame to observed\n",
    "    # 3.826*10**33 = 1 Lsun in erg s^-1\n",
    "    # cosmo.luminosity_distance(0.04).value gives distance in Mpc at z=0.04, multiply by 1000 to get kpc\n",
    "    # 3.0856*10**21 = 1 kpc in cm\n",
    "    # equation is Spectral energy = luminosity * (Lsun in erg s ^-1) / 4 pi (r in cm)**2\n",
    "    spectrum = lum_spectrum*3.826*10**33/(4*np.pi*((cosmo.luminosity_distance(0.04).value*1000)*(3.0856*10**21))**2)\n",
    "    if plot==True:\n",
    "        plt.plot(obs_wave, spectrum*10**18)\n",
    "        plt.xlim(3000,10000)\n",
    "        #plt.xscale('log')\n",
    "        #plt.yscale('log')\n",
    "        plt.xlabel('wavelength[$\\AA$]', fontsize=15)\n",
    "        plt.ylabel('$f_\\lambda \\;/\\; 10^{-18} \\;erg\\;s^{-1}\\;cm^{-2}\\;\\AA^{-1}$', fontsize=15)\n",
    "        plt.show()\n",
    "    return obs_wave, spectrum"
   ]
  },
  {
   "cell_type": "code",
   "execution_count": 29,
   "metadata": {},
   "outputs": [
    {
     "data": {
      "image/png": "[encoded data removed]",
      "text/plain": [
       "<Figure size 432x288 with 1 Axes>"
      ]
     },
     "metadata": {
      "needs_background": "light"
     },
     "output_type": "display_data"
    }
   ],
   "source": [
    "if dust == True:\n",
    "    cubecube = cube_tau.copy()\n",
    "else: cubecube = cube_notau.copy()\n",
    "z_wave, spectrum = plot_spectrum(wave, np.sum(cubecube,axis=(1,2)),z=0.04)"
   ]
  },
  {
   "cell_type": "code",
   "execution_count": 30,
   "metadata": {},
   "outputs": [
    {
     "name": "stdout",
     "output_type": "stream",
     "text": [
      "../snap119/with_PSF/with_dust/Spectrum_2xSc_07_EC_BH_vw1e4_ReposNoRFBNoRP_with_PSF_with_dust_with_noise_SNR15_outshining_test.csv\n"
     ]
    }
   ],
   "source": [
    "def gen_save_name(fileseq, snap, with_PSF, with_dust, with_noise, remarks=None):\n",
    "    directory = '../snap'+str(snap)+'/'\n",
    "    save_name = 'Spectrum_'+fileseq\n",
    "    if with_PSF == True:\n",
    "        directory += 'with_PSF/'\n",
    "        save_name += '_with_PSF'\n",
    "    else:\n",
    "        directory += 'no_PSF/'\n",
    "        save_name += '_no_PSF'\n",
    "    if with_dust == True:\n",
    "        directory += 'with_dust/'\n",
    "        save_name += '_with_dust'\n",
    "    else:\n",
    "        directory += 'no_dust/'\n",
    "        save_name += '_no_dust'\n",
    "    if with_noise == True:\n",
    "        save_name += '_with_noise'\n",
    "    if remarks is not None:\n",
    "        if remarks[0] == '_':\n",
    "            save_name += remarks\n",
    "        else: save_name += '_'+remarks\n",
    "    save_name += '.csv'\n",
    "    return directory+save_name\n",
    "\n",
    "def noise_and_error(spectrum, SNR, noise):\n",
    "    #setting spectrum obs error to be 15% of flux density\n",
    "    spectrum_err = spectrum/SNR\n",
    "    \n",
    "    if noise == True:\n",
    "        #adding artificial noise to the spectrum according to the SNR set\n",
    "        #noise added is gaussian with sigma = signal/SNR\n",
    "        spectrum_1sigma = spectrum/SNR\n",
    "        spectrum_ = spectrum+np.random.randn(len(spectrum_1sigma))*spectrum_1sigma\n",
    "    else:\n",
    "        spectrum_ = spectrum\n",
    "    return spectrum_, spectrum_err\n",
    "\n",
    "spectrum_, spectrum_err = noise_and_error(spectrum, SNR, noise)\n",
    "\n",
    "save_df = pd.DataFrame({'observed-wave[AA]':z_wave,'flux[10^-16 erg/s/cm^2/AA]':spectrum_*10**16, 'noise[10^-16 erg/s/cm^2/AA]':spectrum_err*10**16})\n",
    "save_name = gen_save_name(fileseq, snap, with_PSF, dust, noise, remarks=remarks)\n",
    "print(save_name)\n",
    "save_df[save_df['observed-wave[AA]'].between(*spec_lims)].to_csv(save_name, index=False)"
   ]
  },
  {
   "cell_type": "code",
   "execution_count": null,
   "metadata": {},
   "outputs": [],
   "source": []
  }
 ],
 "metadata": {
  "kernelspec": {
   "display_name": "Python 3",
   "language": "python",
   "name": "python3"
  },
  "language_info": {
   "codemirror_mode": {
    "name": "ipython",
    "version": 3
   },
   "file_extension": ".py",
   "mimetype": "text/x-python",
   "name": "python",
   "nbconvert_exporter": "python",
   "pygments_lexer": "ipython3",
   "version": "3.8.5"
  }
 },
 "nbformat": 4,
 "nbformat_minor": 4
}
